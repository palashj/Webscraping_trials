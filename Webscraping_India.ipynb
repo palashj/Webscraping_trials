{
 "cells": [
  {
   "cell_type": "code",
   "execution_count": 8,
   "metadata": {
    "collapsed": false
   },
   "outputs": [
    {
     "name": "stderr",
     "output_type": "stream",
     "text": [
      "C:\\Users\\pc\\Anaconda3\\lib\\site-packages\\urllib3\\connectionpool.py:730: InsecureRequestWarning: Unverified HTTPS request is being made. Adding certificate verification is strongly advised. See: https://urllib3.readthedocs.org/en/latest/security.html (This warning will only appear once by default.)\n",
      "  InsecureRequestWarning)\n"
     ]
    }
   ],
   "source": [
    "from bs4 import BeautifulSoup\n",
    "import urllib3\n",
    "\n",
    "http = urllib3.PoolManager()\n",
    "\n",
    "url = \"https://en.wikipedia.org/wiki/List_of_India_national_cricket_captains\"\n",
    "response = http.request('GET' , url)\n",
    "soup = BeautifulSoup(response.data, \"lxml\")\n",
    "\n",
    "print(soup)"
   ]
  },
  {
   "cell_type": "code",
   "execution_count": 6,
   "metadata": {
    "collapsed": false
   },
   "outputs": [
    {
     "name": "stdout",
     "output_type": "stream",
     "text": [
      "['', '', '', '', '', '', '', '']\n",
      "['1', \"['Ajit Wadekar']\", '1974', '2', '0', \"['2']\", '0', '0']\n",
      "['2', \"['Srinivasaraghavan Venkataraghavan']\", '1975–1979', '7', '1', \"['6']\", '0', '0']\n",
      "['3', \"['Bishen Singh Bedi']\", '1975/6-1978/9', '4', '1', \"['3']\", '0', '0']\n",
      "['4', \"['Sunil Gavaskar']\", '1980/1-1985/6', '37', '14', \"['21']\", '0', '2']\n",
      "['5', \"['Gundappa Viswanath']\", '1980/1', '1', '0', \"['1']\", '0', '0']\n",
      "['6', \"['Kapil Dev']\", '1982/3-1992/1993', '74', '39', \"['33']\", '0', '2']\n",
      "['7', \"['Syed Kirmani']\", '1983/4', '1', '0', \"['1']\", '0', '0']\n",
      "['8', \"['Mohinder Amarnath']\", '1984/1985', '1', '0', \"['0']\", '0', '1']\n",
      "['9', \"['Ravi Shastri']\", '1986/7-1991/2', '11', '4', \"['7']\", '0', '0']\n",
      "['10', \"['Dilip Vengsarkar']\", '1987/8-1988/9', '18', '8', \"['10']\", '0', '0']\n",
      "['11', \"['Krishnamachari Srikkanth']\", '1989/90', '13', '4', \"['8']\", '0', '1']\n",
      "['12', \"['Mohammad Azharuddin']\", '1989/90-1999', '174', '90', \"['72']\", '8', '4']\n",
      "['13', \"['Sachin Tendulkar']\", '1996-1999/2000', '73', '23', \"['43']\", '1', '6']\n",
      "['14', \"['Ajay Jadeja']\", '1997/8-1999/2000', '13', '8', \"['5']\", '0', '0']\n",
      "['15', \"['Sourav Ganguly']\", '1999–2005', '146', '76', \"['65'\", \" '[9]']\", '0', '5']\n",
      "['16', \"['Rahul Dravid']\", '2000/1 - 2007', '79', '42', \"['33']\", '0', '4']\n",
      "['17', \"['Anil Kumble']\", '2001/2', '1', '1', \"['0']\", '0', '0']\n",
      "['18', \"['Virender Sehwag']\", '2003 - 2011', '12', '7', \"['5']\", '0', '0']\n",
      "['19', \"['Mahendra Singh Dhoni']\", '2007 – 2016', '199', '110', \"['74']\", '4', '11']\n",
      "['20', \"['Suresh Raina']\", '2010 – 2014', '12', '6', \"['5']\", '0', '1']\n",
      "['21', \"['Gautam Gambhir']\", '2010 - 2011', '6', '6', \"['0']\", '0', '0']\n",
      "['22', \"['Virat Kohli']\", '2013 - present', '20', '16', \"['4']\", '0', '0']\n",
      "['23', \"['Ajinkya Rahane']\", '2017', '3', '3', \"['0']\", '0', '0']\n",
      "['23', \"['Ajinkya Rahane']\", '2017', '3', '3', \"['0']\", '0', '0']\n"
     ]
    }
   ],
   "source": [
    "number = \"\"   \n",
    "name = \"\"\n",
    "year = \"\"\n",
    "opposition = \"\"\n",
    "location = \"\"\n",
    "played = \"\"\n",
    "won = \"\"\n",
    "lost = \"\"\n",
    "tied = \"\"\n",
    "\n",
    "table = soup.find(\"table\", { \"class\" : \"wikitable sortable\" })\n",
    "#print (table)\n",
    "\n",
    "f = open('output_India.csv' , 'w')\n",
    "\n",
    "for row in table.findAll(\"tr\"):\n",
    "     cells = row.findAll(\"td\")\n",
    " #For each \"tr\", assign each \"td\" to a variable.\n",
    "     if len(cells) == 9:\n",
    "        number = str(cells[0].find(text=True))\n",
    "        name = str(cells[1].findAll(text=True))\n",
    "        year = str(cells[2].find(text=True))\n",
    "        opposition = str(cells[3].find(text=True))\n",
    "        location = str(cells[4].find(text=True))\n",
    "        played = str(cells[5].findAll(text=True))\n",
    "        won = str(cells[6].find(text=True))\n",
    "        lost = str(cells[7].find(text=True))\n",
    "        tied = str(cells[8].find(text=True))\n",
    "        \n",
    "     write_to_file =  number + ',' + name + ',' + year + ',' + opposition + ',' + location + ',' + played + ',' + won + ',' + lost\n",
    "     print (write_to_file.split(','))\n",
    "     f.write(write_to_file)\n",
    "f.close()"
   ]
  },
  {
   "cell_type": "code",
   "execution_count": 7,
   "metadata": {
    "collapsed": false
   },
   "outputs": [
    {
     "name": "stdout",
     "output_type": "stream",
     "text": [
      "<_io.TextIOWrapper name='output_India.csv' mode='r' encoding='cp1252'>\n"
     ]
    }
   ],
   "source": []
  },
  {
   "cell_type": "code",
   "execution_count": null,
   "metadata": {
    "collapsed": true
   },
   "outputs": [],
   "source": []
  },
  {
   "cell_type": "code",
   "execution_count": null,
   "metadata": {
    "collapsed": true
   },
   "outputs": [],
   "source": []
  }
 ],
 "metadata": {
  "kernelspec": {
   "display_name": "Python 3",
   "language": "python",
   "name": "python3"
  },
  "language_info": {
   "codemirror_mode": {
    "name": "ipython",
    "version": 3
   },
   "file_extension": ".py",
   "mimetype": "text/x-python",
   "name": "python",
   "nbconvert_exporter": "python",
   "pygments_lexer": "ipython3",
   "version": "3.6.0"
  }
 },
 "nbformat": 4,
 "nbformat_minor": 2
}
